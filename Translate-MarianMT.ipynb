!pip install transformers==3.5.1
!pip install torch==1.4.0



from transformers import MarianMTModel, MarianTokenizer
import torch

model_name = 'Helsinki-NLP/opus-mt-en-es'
tokenizer = MarianTokenizer.from_pretrained(model_name)
model = MarianMTModel.from_pretrained(model_name)
